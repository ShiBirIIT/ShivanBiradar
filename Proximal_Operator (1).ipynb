{
 "cells": [
  {
   "cell_type": "markdown",
   "id": "6c65a7cf",
   "metadata": {},
   "source": [
    "# PROXIMAL OPERATOR\n",
    "\n",
    "- Proximal operator of a closed convex proper function $f$ is defined as \n",
    "\n",
    "$$ f_\\gamma(x) = argmin_x \\{f(z) + \\||z-x\\||_2^2\\} $$\n",
    "\n",
    "$F(k) = \\int_{-\\infty}^{\\infty} f(x) e^{2\\pi i k} dx'$\n"
   ]
  }
 ],
 "metadata": {
  "kernelspec": {
   "display_name": "Python 3",
   "language": "python",
   "name": "python3"
  },
  "language_info": {
   "codemirror_mode": {
    "name": "ipython",
    "version": 3
   },
   "file_extension": ".py",
   "mimetype": "text/x-python",
   "name": "python",
   "nbconvert_exporter": "python",
   "pygments_lexer": "ipython3",
   "version": "3.8.8"
  }
 },
 "nbformat": 4,
 "nbformat_minor": 5
}
