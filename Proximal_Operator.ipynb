{
 "cells": [
  {
   "cell_type": "markdown",
   "id": "6d136653",
   "metadata": {},
   "source": [
    "# PROXIMAL OPERATOR\n",
    "\n",
    "- Proximal operator of a closed convex proper function $f$ is defined as \n",
    "\n",
    "$$ f_\\gamma(x) = argmin_x \\{f(z) + \\||z-x\\||_2^2\\} $$\n",
    "\n",
    "$F(k) = \\int_{-\\infty}^{\\infty} f(x) e^{2\\pi i k} dx'$\n"
   ]
  },
  
