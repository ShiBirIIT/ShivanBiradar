{
 "cells": [
  {
   "cell_type": "markdown",
   "metadata": {},
   "source": [
    "# Most Powerful Unfalsified Model (MPUM)\n",
    "The Most Powerful Unfalsified Model (MPUM), is the model in the model class that explains the observations, but as \"little else\" as possible. "
   ]
  }
 ],
 "metadata": {
  "language_info": {
   "name": "python"
  },
  "orig_nbformat": 4
 },
 "nbformat": 4,
 "nbformat_minor": 2
}
