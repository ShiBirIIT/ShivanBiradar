{
 "cells": [
  {
   "cell_type": "markdown",
   "metadata": {},
   "source": [
    "# Most Powerful Unfalsified Model (MPUM)\n",
    "Unfalsified means \"not misleading\". <br>\n",
    "\n",
    "The Most Powerful Unfalsified Model (MPUM), is the model in the model class that explains the observations, but as little else as possible. <br>\n",
    "\n",
    "We have to identify/estimate a model which describes the collected time series. Such models being plenty, we try to find a model which describes the time series and ... (what do we write here?)   \n",
    "\n",
    "# Problem in Hand\n",
    "Given observed vector time series: $$ \\tilde{w} = \\{ \\tilde{w}(1), \\tilde{w}(2), ..., \\tilde{w}(t)  \\} $$\n",
    "with $$ \\tilde{w}(t)\\in R^W $ and $ t \\in N $$.<br> Find the \"most powerful unfalsified model\" associated with $\\tilde{w}$ in the model class of dynamical systems consisting of solutions of linear constant coefficient  difference equations.\n",
    "\n",
    "\n",
    "# Side notes\n",
    "$$L^2$$ $$space$$ or $$Signal$$ $$space$$ is space of all square integrable functions. Consider all continuous functions on some interval $$I$$ which may be the half line or the whole real line and define:\n",
    "\n",
    "$$  L^2(I) = \\{f \\mid \\} $$\n",
    "\n",
    "$$L^2$$ space equipped with inner product forms a Hilbert space.<br>\n",
    "Inner product of two function $$f$$, $$g$$ $$\\in L^2$$ space. \n",
    "$$ <f,g> = \\int_{I}f(x)g(x) \\,dx$$"
   ]
  }
 ],
 "metadata": {
  "language_info": {
   "name": "python"
  },
  "orig_nbformat": 4
 },
 "nbformat": 4,
 "nbformat_minor": 2
}
