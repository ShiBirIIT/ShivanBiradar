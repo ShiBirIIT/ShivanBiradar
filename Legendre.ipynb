{
 "cells": [
  {
   "cell_type": "markdown",
   "metadata": {},
   "source": [
    "# PROXIMAL OPERATOR\n",
    "\n",
    "- Proximal operator of a closed convex proper function $f$ is defined as \n",
    "\n",
    "$$ prox_{\\gamma f}(x) = \\operatorname*{argmin}_z \\{f(z) + \\|z-x\\|_2^2\\} $$\n",
    "\n",
    "- Moreau Envelope\n",
    "\n",
    "$$ f^\\gamma(x) = \\operatorname*{inf}_z\\{ f(z) + \\|z-x\\|_2^2\\ \\} $$\n",
    "\n",
    "Visualizing Moreau envelope and Proximal operator:<br> \n",
    "<br>\n",
    "We consider an example for visualising both moreau envelope and proximal operator.<br>\n",
    " $$f(z) = |x|$$  \n",
    "we get:<br>\n",
    " $$argmin_z \\{|x| + \\|z-x\\|_2^2\\}$$ \n",
    "From which, we have the following:<br><br>\n",
    "Moreau Envelope:  $inf_z \\{|z| + \\|z-x\\|_2^2\\} = $ <br>\n",
    "<br>\n",
    "Proximal Operator:  $argmin_z \\{|z| + \\|z-x\\|_2^2\\}$  "
   ]
  },
  {
   "cell_type": "code",
   "execution_count": 2,
   "id": "76d012dc",
   "metadata": {},
   "outputs": [
    {
     "ename": "ModuleNotFoundError",
     "evalue": "No module named 'matplotlib'",
     "output_type": "error",
     "traceback": [
      "\u001b[1;31m---------------------------------------------------------------------------\u001b[0m",
      "\u001b[1;31mModuleNotFoundError\u001b[0m                       Traceback (most recent call last)",
      "\u001b[1;32mC:\\Users\\COMSOL~1\\AppData\\Local\\Temp/ipykernel_868/1076295655.py\u001b[0m in \u001b[0;36m<module>\u001b[1;34m\u001b[0m\n\u001b[0;32m      5\u001b[0m \u001b[0mx\u001b[0m \u001b[1;33m=\u001b[0m \u001b[0mnp\u001b[0m\u001b[1;33m.\u001b[0m\u001b[0marange\u001b[0m\u001b[1;33m(\u001b[0m\u001b[1;33m-\u001b[0m\u001b[1;36m3\u001b[0m\u001b[1;33m,\u001b[0m\u001b[1;36m3\u001b[0m\u001b[1;33m,\u001b[0m\u001b[1;36m0.01\u001b[0m\u001b[1;33m)\u001b[0m\u001b[1;33m\u001b[0m\u001b[1;33m\u001b[0m\u001b[0m\n\u001b[0;32m      6\u001b[0m \u001b[0mgamma\u001b[0m \u001b[1;33m=\u001b[0m \u001b[1;36m1\u001b[0m\u001b[1;33m\u001b[0m\u001b[1;33m\u001b[0m\u001b[0m\n\u001b[1;32m----> 7\u001b[1;33m \u001b[1;32mimport\u001b[0m \u001b[0mmatplotlib\u001b[0m\u001b[1;33m.\u001b[0m\u001b[0mpyplot\u001b[0m \u001b[1;32mas\u001b[0m \u001b[0mplt\u001b[0m\u001b[1;33m\u001b[0m\u001b[1;33m\u001b[0m\u001b[0m\n\u001b[0m\u001b[0;32m      8\u001b[0m \u001b[1;32mfor\u001b[0m \u001b[0mi\u001b[0m \u001b[1;32min\u001b[0m \u001b[0mrange\u001b[0m\u001b[1;33m(\u001b[0m\u001b[0mlen\u001b[0m\u001b[1;33m(\u001b[0m\u001b[0mz\u001b[0m\u001b[1;33m)\u001b[0m\u001b[1;33m)\u001b[0m\u001b[1;33m:\u001b[0m\u001b[1;33m\u001b[0m\u001b[1;33m\u001b[0m\u001b[0m\n\u001b[0;32m      9\u001b[0m     \u001b[0mplt\u001b[0m\u001b[1;33m.\u001b[0m\u001b[0mplot\u001b[0m\u001b[1;33m(\u001b[0m\u001b[0mx\u001b[0m\u001b[1;33m,\u001b[0m\u001b[0mabs\u001b[0m\u001b[1;33m(\u001b[0m\u001b[0mx\u001b[0m\u001b[1;33m)\u001b[0m\u001b[1;33m,\u001b[0m\u001b[0mc\u001b[0m\u001b[1;33m=\u001b[0m\u001b[1;34m'k'\u001b[0m\u001b[1;33m)\u001b[0m\u001b[1;33m\u001b[0m\u001b[1;33m\u001b[0m\u001b[0m\n",
      "\u001b[1;31mModuleNotFoundError\u001b[0m: No module named 'matplotlib'"
     ]
    }
   ],
   "source": [
    "import numpy as np\n",
    "vec = [-2.5, -1.5, 0, 1.5, 2.5]\n",
    "z = np.array(vec)\n",
    "min_f = np.zeros(len(vec))\n",
    "x = np.arange(-3,3,0.01)\n",
    "gamma = 1\n",
    "import matplotlib.pyplot as plt \n",
    "for i in range(len(z)):\n",
    "    plt.plot(x,abs(x),c='k')\n",
    "    f1 = abs(x)\n",
    "    f2 = (1/(2*gamma))*(z[i]-x)*(z[i]-x)\n",
    "    f = f1 + f2\n",
    "    min_f[i] = min(f)\n",
    "    plt.plot(x,f)\n",
    "    plt.grid()\n",
    "    plt.ylim([-1,5])\n",
    "    import numpy as np\n",
    "\n",
    "plt.plot(z, min_f, '-oc')\n",
    "\n",
    "from scipy import optimize\n",
    "def f(x):   \n",
    "    return abs(x[0])+ (1/(2*gamma))*(x[1]-x[0])*(x[1]-x[0])\n",
    "\n",
    "def reporter(p):\n",
    "    \"\"\"Reporter function to capture intermediate states of optimization.\"\"\"\n",
    "    global ps\n",
    "    ps.append(p)\n",
    "\n",
    "x0 = [-3,3]\n",
    "ps=[x0]\n",
    "\n",
    "optim = optimize.minimize(f, [3, 3], callback=reporter, method=\"CG\") \n",
    "print(optim.x)\n",
    "plt.plot(optim.x[0],optim.x[0],c='k',marker='*',markersize=12)\n",
    "xaxis = np.arange(-5,5,0.1)\n",
    "yaxis = np.arange(-5,5,0.1)\n",
    "x,y = np.meshgrid(xaxis,yaxis)\n",
    "x_aug = [x,y]\n",
    "results = f(x_aug)\n",
    "figure = plt.figure()\n",
    "axis = figure.gca(projection='3d')\n",
    "axis.plot_surface(x, y, results, cmap='jet')\n",
    "plt.figure()\n",
    "plt.contour(x, y, results, 50, cmap='RdGy')\n",
    "ps = np.array(ps)\n",
    "plt.plot(ps[:, 0], ps[:, 1], '-ro')\n",
    "plt.show()"
   ]
  }
 ],
 "metadata": {
  "interpreter": {
   "hash": "b0fa6594d8f4cbf19f97940f81e996739fb7646882a419484c72d19e05852a7e"
  },
  "kernelspec": {
   "display_name": "Python 3.9.5 64-bit",
   "name": "python3"
  },
  "language_info": {
   "codemirror_mode": {
    "name": "ipython",
    "version": 3
   },
   "file_extension": ".py",
   "mimetype": "text/x-python",
   "name": "python",
   "nbconvert_exporter": "python",
   "pygments_lexer": "ipython3",
   "version": "3.10.0"
  }
 },
 "nbformat": 4,
 "nbformat_minor": 5
}
