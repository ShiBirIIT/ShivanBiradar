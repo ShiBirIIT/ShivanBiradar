{
 "cells": [
  {
   "cell_type": "markdown",
   "metadata": {},
   "source": [
    "\n",
    "\n",
    "# STRATEGY:  Equality Constrained Optimization Constraint\n",
    "![kkt7](assets/img/KKT_images/KKT_Page_07.jpg)\n",
    "![kkt8](assets/img/KKT_images/KKT_Page_08.jpg)\n",
    "![kkt9](assets/img/KKT_images/KKT_Page_09.jpg)\n",
    "![kkt10](assets/img/KKT_images/KKT_Page_10.jpg)\n",
    "![kkt11](assets/img/KKT_images/KKT_Page_11.jpg)\n",
    "![kkt12](assets/img/KKT_images/KKT_Page_12.jpg)\n",
    "![kkt13](assets/img/KKT_images/KKT_Page_13.jpg)\n",
    "![kkt14](assets/img/KKT_images/KKT_Page_14.jpg)\n",
    "![kkt15](assets/img/KKT_images/KKT_Page_15.jpg)\n",
    "![kkt16](assets/img/KKT_images/KKT_Page_16.jpg)\n",
    "![kkt17](assets/img/KKT_images/KKT_Page_17.jpg)\n",
    "![kkt18](assets/img/KKT_images/KKT_Page_18.jpg)\n",
    "![kkt19](assets/img/KKT_images/KKT_Page_19.jpg)\n",
    "![kkt20](assets/img/KKT_images/KKT_Page_20.jpg)\n",
    "![kkt21](assets/img/KKT_images/KKT_Page_21.jpg)\n",
    "![kkt22](assets/img/KKT_images/KKT_Page_22.jpg)"
   ]
  }
 ],
 "metadata": {
  "language_info": {
   "name": "python"
  },
  "orig_nbformat": 4
 },
 "nbformat": 4,
 "nbformat_minor": 2
}
