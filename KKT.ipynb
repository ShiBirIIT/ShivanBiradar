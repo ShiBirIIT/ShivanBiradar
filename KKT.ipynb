{
 "cells": [
  {
   "cell_type": "markdown",
   "metadata": {},
   "source": [
    "\n",
    "# KKT : Karush Kuhn Tucker Condition\n",
    "In mathematical optimization, the Karush–Kuhn–Tucker (KKT) conditions, also known as the Kuhn–Tucker conditions, are first derivative tests (sometimes called first-order necessary conditions) for a solution in nonlinear programming to be optimal, provided that some regularity conditions are satisfied.\n",
    "\n",
    "Allowing inequality constraints, the KKT approach to nonlinear programming generalizes the method of Lagrange multipliers, which allows only equality constraints. Similar to the Lagrange approach, the constrained maximization (minimization) problem is rewritten as a Lagrange function whose optimal point is a saddle point, i.e. a global maximum (minimum) over the domain of the choice variables and a global minimum (maximum) over the multipliers, which is why the Karush–Kuhn–Tucker theorem is sometimes referred to as the saddle-point theorem.[1]\n",
    "\n",
    "The KKT conditions were originally named after Harold W. Kuhn and Albert W. Tucker, who first published the conditions in 1951.[2] Later scholars discovered that the necessary conditions for this problem had been stated by William Karush in his master's thesis in 1939.[3][4]\n",
    "\n",
    "\n",
    "# STRATEGY:  Equality Constrained Optimization Constraint\n",
    "![kkt7](assets/img/KKT_images/KKT_Page_07.jpg)\n",
    "![kkt8](assets/img/KKT_images/KKT_Page_08.jpg)\n",
    "![kkt9](assets/img/KKT_images/KKT_Page_09.jpg)\n",
    "![kkt10](assets/img/KKT_images/KKT_Page_10.jpg)\n",
    "![kkt11](assets/img/KKT_images/KKT_Page_11.jpg)\n",
    "![kkt12](assets/img/KKT_images/KKT_Page_12.jpg)\n",
    "![kkt13](assets/img/KKT_images/KKT_Page_13.jpg)\n",
    "![kkt14](assets/img/KKT_images/KKT_Page_14.jpg)\n",
    "![kkt15](assets/img/KKT_images/KKT_Page_15.jpg)\n",
    "![kkt16](assets/img/KKT_images/KKT_Page_16.jpg)\n",
    "![kkt17](assets/img/KKT_images/KKT_Page_17.jpg)\n",
    "![kkt18](assets/img/KKT_images/KKT_Page_18.jpg)\n",
    "![kkt19](assets/img/KKT_images/KKT_Page_19.jpg)\n",
    "![kkt20](assets/img/KKT_images/KKT_Page_20.jpg)\n",
    "![kkt21](assets/img/KKT_images/KKT_Page_21.jpg)\n",
    "![kkt22](assets/img/KKT_images/KKT_Page_22.jpg)\n",
    "\n",
    "# STRATEGY:  Inequality Constrained Optimization Constraint\n",
    "![kkt25](assets/img/KKT_images/KKT_Page_25.jpg)\n",
    "![kkt26](assets/img/KKT_images/KKT_Page_26.jpg)\n",
    "![kkt27](assets/img/KKT_images/KKT_Page_27.jpg)\n",
    "![kkt28](assets/img/KKT_images/KKT_Page_28.jpg)\n",
    "![kkt29](assets/img/KKT_images/KKT_Page_29.jpg)\n",
    "![kkt30](assets/img/KKT_images/KKT_Page_30.jpg)\n",
    "![kkt31](assets/img/KKT_images/KKT_Page_31.jpg)\n",
    "![kkt32](assets/img/KKT_images/KKT_Page_32.jpg)\n",
    "![kkt33](assets/img/KKT_images/KKT_Page_33.jpg)\n",
    "![kkt34](assets/img/KKT_images/KKT_Page_34.jpg)\n",
    "![kkt35](assets/img/KKT_images/KKT_Page_35.jpg)\n",
    "![kkt36](assets/img/KKT_images/KKT_Page_36.jpg)\n",
    "![kkt37](assets/img/KKT_images/KKT_Page_37.jpg)\n",
    "![kkt38](assets/img/KKT_images/KKT_Page_38.jpg)\n",
    "![kkt39](assets/img/KKT_images/KKT_Page_39.jpg)\n",
    "![kkt40](assets/img/KKT_images/KKT_Page_40.jpg)\n",
    "![kkt41](assets/img/KKT_images/KKT_Page_41.jpg)\n",
    "![kkt42](assets/img/KKT_images/KKT_Page_42.jpg)\n",
    "![kkt43](assets/img/KKT_images/KKT_Page_43.jpg)\n",
    "![kkt44](assets/img/KKT_images/KKT_Page_44.jpg)\n",
    "![kkt4](assets/img/KKT_images/KKT_Page_45.jpg)"
   ]
  }
 ],
 "metadata": {
  "language_info": {
   "name": "python"
  },
  "orig_nbformat": 4
 },
 "nbformat": 4,
 "nbformat_minor": 2
}
